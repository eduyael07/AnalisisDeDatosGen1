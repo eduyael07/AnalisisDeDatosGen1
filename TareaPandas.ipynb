{
 "cells": [
  {
   "cell_type": "markdown",
   "id": "debae919",
   "metadata": {},
   "source": [
    "# Tarea 01 **Pandas y gráficas**"
   ]
  }
 ],
 "metadata": {
  "language_info": {
   "name": "python"
  }
 },
 "nbformat": 4,
 "nbformat_minor": 5
}
