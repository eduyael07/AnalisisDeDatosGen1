{
 "cells": [
  {
   "cell_type": "markdown",
   "id": "d5153765",
   "metadata": {},
   "source": [
    "# Tarea 01 **Polars y gráficas**"
   ]
  },
  {
   "cell_type": "markdown",
   "id": "a14868bf",
   "metadata": {},
   "source": [
    "#### Informe Estadístico: Análisis de Servicios de Taxi en Enero\n",
    "\n",
    "A continuación, se presentan los principales hallazgos y visualizaciones del análisis realizado:\n",
    "\n",
    " 1. Promedio de ingresos brutos de cada tipo de taxi y de todos los taxis\n",
    "\n",
    " 2. Qué tipo de taxis recorrieron la mayor cantidad de distancia en Enero\n",
    "\n",
    " 3. Qué tipo de taxi recibe más propinas en promedio\n",
    "\n",
    " 4. Gráfico de barras reportando el importe del peaje total de cada tipo de Taxi\n",
    "\n",
    " 5. Un mapa de calor que describa el comportamiento de a qué hora se tomaron todos los taxis durante los días de Enero\n",
    "\n",
    " 6. Un mapa de calor para cada tipo de taxi que reporte los días de Enero en los que más se uso su servicio"
   ]
  },
  {
   "cell_type": "code",
   "execution_count": 1,
   "id": "c603dbaa",
   "metadata": {},
   "outputs": [],
   "source": [
    "import polars as pl\n",
    "import matplotlib.pyplot as mpl"
   ]
  },
  {
   "cell_type": "markdown",
   "id": "86f2446f",
   "metadata": {},
   "source": [
    "***Promedio*** de ingresos brutos de cada tipo de taxi y de todos los taxis"
   ]
  },
  {
   "cell_type": "code",
   "execution_count": 2,
   "id": "8160828e",
   "metadata": {},
   "outputs": [
    {
     "name": "stdout",
     "output_type": "stream",
     "text": [
      "shape: (1, 1)\n",
      "┌────────────────────────┐\n",
      "│ Promedio taxi amarillo │\n",
      "│ ---                    │\n",
      "│ f64                    │\n",
      "╞════════════════════════╡\n",
      "│ 25.611292              │\n",
      "└────────────────────────┘\n",
      "shape: (1, 1)\n",
      "┌─────────────────────┐\n",
      "│ Promedio taxi verde │\n",
      "│ ---                 │\n",
      "│ f64                 │\n",
      "╞═════════════════════╡\n",
      "│ 22.634242           │\n",
      "└─────────────────────┘\n",
      "shape: (1, 1)\n",
      "┌────────────────────────┐\n",
      "│ Promedio taxi amarillo │\n",
      "│ ---                    │\n",
      "│ f64                    │\n",
      "╞════════════════════════╡\n",
      "│ 24.122767              │\n",
      "└────────────────────────┘\n"
     ]
    }
   ],
   "source": [
    "yellow = pl.read_parquet(\"yellow_tripdata_2025-01.parquet\")\n",
    "green = pl.read_parquet(\"green_tripdata_2025-01.parquet\")\n",
    "\n",
    "yellow = yellow.select(pl.col(\"total_amount\").mean().alias(\"Promedio taxi amarillo\"))\n",
    "green = green.select(pl.col(\"total_amount\").mean().alias(\"Promedio taxi verde\"))\n",
    "total = ((yellow + green)/2)\n",
    "print(yellow)\n",
    "print(green)\n",
    "print(total)"
   ]
  },
  {
   "cell_type": "markdown",
   "id": "af6559a5",
   "metadata": {},
   "source": [
    "Qué ***tipo*** de taxis recorrieron la mayor cantidad de distancia en Enero"
   ]
  },
  {
   "cell_type": "code",
   "execution_count": 3,
   "id": "57c968f0",
   "metadata": {},
   "outputs": [
    {
     "name": "stdout",
     "output_type": "stream",
     "text": [
      "shape: (2, 2)\n",
      "┌──────────┬───────────┐\n",
      "│ distance ┆ taxi_type │\n",
      "│ ---      ┆ ---       │\n",
      "│ f64      ┆ str       │\n",
      "╞══════════╪═══════════╡\n",
      "│ 2.0348e7 ┆ amarillo  │\n",
      "│ 1.0406e6 ┆ verde     │\n",
      "└──────────┴───────────┘\n"
     ]
    }
   ],
   "source": [
    "yellow = pl.read_parquet(\"yellow_tripdata_2025-01.parquet\")\n",
    "green = pl.read_parquet(\"green_tripdata_2025-01.parquet\")\n",
    "\n",
    "distance_summary = pl.concat([\n",
    "    yellow.select(\n",
    "        pl.col(\"trip_distance\").sum().alias(\"distance\"),\n",
    "        pl.lit(\"amarillo\").alias(\"taxi_type\")\n",
    "    ),\n",
    "    green.select(\n",
    "        pl.col(\"trip_distance\").sum().alias(\"distance\"),\n",
    "        pl.lit(\"verde\").alias(\"taxi_type\")\n",
    "    )\n",
    "])\n",
    "\n",
    "# Resultado en un solo DataFrame\n",
    "print(distance_summary)"
   ]
  }
 ],
 "metadata": {
  "kernelspec": {
   "display_name": "venv",
   "language": "python",
   "name": "python3"
  },
  "language_info": {
   "codemirror_mode": {
    "name": "ipython",
    "version": 3
   },
   "file_extension": ".py",
   "mimetype": "text/x-python",
   "name": "python",
   "nbconvert_exporter": "python",
   "pygments_lexer": "ipython3",
   "version": "3.12.3"
  }
 },
 "nbformat": 4,
 "nbformat_minor": 5
}
